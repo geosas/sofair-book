{
 "cells": [
  {
   "cell_type": "code",
   "execution_count": 1,
   "id": "31f4e4d8-c1b7-467d-8f21-711824cd89c6",
   "metadata": {
    "metadata": {},
    "tags": []
   },
   "outputs": [],
   "source": [
    "#!/usr/bin/env python3\n",
    "# -*- coding: utf-8 -*-\n",
    "\n",
    "import requests\n",
    "import json\n",
    "import os\n",
    "import pandas as pd  # nécessites les librairies  openpyxl, xlrd pour ouvrir le xlsx\n",
    "import shapely\n",
    "from shapely.geometry import Point, LineString, Polygon\n",
    "import sys\n",
    "\n",
    "# Instance STEAN et bibliothèques de fonctions\n",
    "from stean_plus import instanceST \n",
    "\n",
    "# Affichage complet des dataframes\n",
    "pd.set_option(\"display.max_colwidth\", None)"
   ]
  },
  {
   "cell_type": "code",
   "execution_count": null,
   "id": "90dfb0d1",
   "metadata": {
    "metadata": {}
   },
   "outputs": [],
   "source": [
    "# Déclaration des variables ########################################################################### \n",
    "# Fichier Excel de configuration\n",
    "# A adapter selon votre environnement\n",
    "# path = r\"C:\\Users\\..\\..\\projets\\fichier_de_configuration.xlsm\"\n",
    "path = r\"C:\\..\\fichier_configuration.xlsm\"\n",
    "\n",
    "# Création d'une instance SensorThing ###########################################################################\n",
    "# A adapter selon votre environnement\n",
    "#sessionST=instanceST('url de votre instance STEAN', 'login de votre instance STEAN', 'mot de passe de votre instance STEAN')\n",
    "sessionST=instanceST('https://url_STEAN', 'login', 'password')\n",
    "\n",
    "# Lecture de la configuration ###########################################################################\n",
    "# liste des onglets à prendre en compte\n",
    "sheet_list = ['1_observedProperty','2_sensor','3_thing','4_datastream','5_featureOfInterest']\n",
    "\n",
    "with pd.ExcelFile(path) as xls:\n",
    "    for entity in sheet_list:\n",
    "        print(\"Lecture de l'onglet \" + entity)\n",
    "        conf_table = pd.read_excel(xls, sheet_name = entity)\n",
    "        # suppression des lignes vides\n",
    "        if conf_table.isnull().values.any() == True: \n",
    "            print(\"Attention! Détection de cellules vides dans l'onglet \" + entity)\n",
    "            print(\"Suppression UNIQUEMENT des lignes entièrement vides\")\n",
    "            conf_table.dropna(how='all', inplace=True)\n",
    "            \n",
    "        # arrêt conf_table = du script si présence doublons dans les colonnes name\n",
    "        if conf_table.duplicated(subset=['name']).values.any() == True:\n",
    "            print(\"Attention! Détection de doublons dans l'onglet \" + entity + \" dans la colonne name\")\n",
    "            sys.exit(\"Arrêt du script! Veuillez vérifier le fichier de configuration \" + path)\n",
    "        # mise en mémoire des contenus de chaques onglets du fichier de configuration\n",
    "        # supprression des caractères espace, \\n, \\r et \\n\n",
    "        if entity == '4_datastream': datastream_table = conf_table.map(lambda x: x.strip(' \\r\\n\\t') if isinstance(x, str) else x)\n",
    "        if entity == '1_observedProperty': observedProperty_table = conf_table.map(lambda x: x.strip(' \\r\\n\\t') if isinstance(x, str) else x)\n",
    "        if entity == '2_sensor': sensor_table = conf_table.map(lambda x: x.strip(' \\r\\n\\t') if isinstance(x, str) else x)   \n",
    "        if entity == '3_thing': thing_table = conf_table.map(lambda x: x.strip(' \\r\\n\\t') if isinstance(x, str) else x)  \n",
    "        if entity == '5_featureOfInterest': featureOfInterest_table = conf_table.map(lambda x: x.strip(' \\r\\n\\t') if isinstance(x, str) else x)\n",
    "\n",
    "\n",
    "# Vérification des coordonnées des onglets 3_thing et 5_featureOfInterest\n",
    "print(\"Vérification des coordonnées de l'onglet 5_featureOfInterest\")\n",
    "for index, row in featureOfInterest_table.iterrows():\n",
    "    if row['feature.type'] == \"Point\" and Point(json.loads(row['feature.coordinates'])).is_valid == False:\n",
    "        print(\"Erreur format point pour\", row['name'])\n",
    "        sys.exit(\"Arrêt du script! Veuillez vérifier le fichier de configuration \" + path)\n",
    "    if row['feature.type'] == \"Polygon\" and Polygon(json.loads(row['feature.coordinates'])).is_valid == False:\n",
    "        print(\"Erreur format Polygone pour\", row['name']) \n",
    "        sys.exit(\"Arrêt du script! Veuillez vérifier le fichier de configuration \" + path)\n",
    "\n",
    "print(\"Vérification des coordonnées de l'onglet 3_thing\")\n",
    "for index, row in thing_table.iterrows():\n",
    "    if row['type'] == \"Point\" and Point(json.loads(row['coordinates'])).is_valid == False:\n",
    "        print(\"Erreur format point pour\", row['name'])\n",
    "        sys.exit(\"Arrêt du script! Veuillez vérifier le fichier de configuration \" + path)\n",
    "    if row['type'] == \"Polygon\" and Polygon(json.loads(row['coordinates'])).is_valid == False:\n",
    "        print(\"Erreur format Polygone pour\", row['name']) \n",
    "        sys.exit(\"Arrêt du script! Veuillez vérifier le fichier de configuration \" + path)\n",
    "\n",
    "# Création des fichiers Json (featureOfInterest, observedProperty, sensor,thing) ###########################################################################\n",
    "# Ordre de création: 1. observedProperty, 2. sensor, , 3. thing et location.  \n",
    "# L'entité **datastream** sera crée après envoie des 3 scripts Json ci-dessus.\n",
    "# La création du datastream_json nécessite la récupération d'identifiant au préalable\n",
    "\n",
    "featureOfInterest_json = sessionST.featureOfInterest_create(featureOfInterest_table)\n",
    "observedProperty_json = sessionST.observedProperty_create(observedProperty_table)\n",
    "sensor_json = sessionST.sensor_create(sensor_table)\n",
    "thing_json = sessionST.thing_create(thing_table)\n",
    "\n",
    "# Configuration des entités (FeaturesOfInterest, ObservedProperties, Sensors, Things) par envoi de Json\n",
    "if len(observedProperty_json)!=0 and len(sensor_json)!=0 and len(thing_json)!=0 and len(featureOfInterest_json)!=0:\n",
    "    sessionST.connexion() # connexion au serveur\n",
    "    sessionST.post_data_serveur(\"FeaturesOfInterest\",featureOfInterest_json)\n",
    "    sessionST.post_data_serveur(\"ObservedProperties\",observedProperty_json)\n",
    "    sessionST.post_data_serveur(\"Sensors\",sensor_json)\n",
    "    sessionST.post_data_serveur(\"Things\",thing_json)\n",
    "    sessionST.log_out()"
   ]
  },
  {
   "cell_type": "code",
   "execution_count": null,
   "id": "ec82901b-fcf0-4abf-b7f3-fdb4cd93b29e",
   "metadata": {
    "metadata": {},
    "scrolled": true
   },
   "outputs": [],
   "source": [
    "# Création du fichier Json (datastream) ###########################################################################\n",
    "datastream_json = sessionST.datastream_create(datastream_table, observedProperty_table, sensor_table, thing_table, featureOfInterest_table)\n",
    "\n",
    "# Configuration des entités (Datastreams) par envoi de Json\n",
    "if len(datastream_json)!=0:\n",
    "    sessionST.connexion() # connexion au serveur\n",
    "    sessionST.post_data_serveur(\"Datastreams\",datastream_json)\n",
    "    sessionST.log_out()"
   ]
  }
 ],
 "metadata": {
  "kernelspec": {
   "display_name": "Python 3 (ipykernel)",
   "language": "python",
   "name": "python3"
  },
  "language_info": {
   "codemirror_mode": {
    "name": "ipython",
    "version": 3
   },
   "file_extension": ".py",
   "mimetype": "text/x-python",
   "name": "python",
   "nbconvert_exporter": "python",
   "pygments_lexer": "ipython3",
   "version": "3.11.9"
  }
 },
 "nbformat": 4,
 "nbformat_minor": 5
}
