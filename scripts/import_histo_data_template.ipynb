{
 "cells": [
  {
   "cell_type": "code",
   "execution_count": 1,
   "id": "77e4a688-9683-4c93-a148-64d1081770a8",
   "metadata": {},
   "outputs": [],
   "source": [
    "#!/usr/bin/env python3\n",
    "# -*- coding: utf-8 -*-\n",
    "\n",
    "from stean_plus import instanceST"
   ]
  },
  {
   "cell_type": "code",
   "execution_count": null,
   "id": "a094a154-69e5-4a2b-9db1-6b78b7037a95",
   "metadata": {
    "metadata": {}
   },
   "outputs": [],
   "source": [
    "# Déclaration des variables ########################################################################### \n",
    "# chemin du fichier de données historiques à importer\n",
    "# A adapter selon votre environnement\n",
    "path_data = r\"C:\\Users\\..\\..\\projets\\fichier_CSV.csv\"\n",
    "\n",
    "# Nom du datastream cible\n",
    "# A adapter selon votre environnement\n",
    "datastream_name ='nom_datastream'\n",
    "\n",
    "# Création d'une instance SensorThing ###########################################################################\n",
    "# A adapter selon votre environnement\n",
    "#sessionST=instanceST('url de votre instance STEAN', 'login de votre instance STEAN', 'mot de passe de votre instance STEAN')\n",
    "sessionST=instanceST('https://url_STEAN', 'login', 'password')\n",
    "\n",
    "sessionST.connexion() # connexion au serveur"
   ]
  },
  {
   "cell_type": "code",
   "execution_count": null,
   "id": "da462340-3d09-4f0b-afd6-1bf6f3e10290",
   "metadata": {
    "metadata": {}
   },
   "outputs": [],
   "source": [
    "# Avant d'effectuer l'importation du fichier CVS, il est nécessaire de préparer un json identifiant le Datastream et le FOI associé\n",
    "\n",
    "# Information sur le datastream cible\n",
    "print(\"\\n********************\\nInformations du datastream cible\",datastream_name)\n",
    "\n",
    "# Demande d'information sur un Datastream selon son nom\n",
    "options=\"select=id,_default_foi&$filter=name eq '\" + datastream_name + \"'\"\n",
    "\n",
    "info_datastream = sessionST.getInfo('Datastreams',options)\n",
    "print(info_datastream[0]['@iot.id'], info_datastream[0]['_default_foi'])\n",
    "\n",
    "# Datastream à cibler - création d'un json à joindre à la requête d'importation\n",
    "print(\"\\n********************\\nCréation du json du datastream cible\",datastream_name)\n",
    "id_datastream = str(info_datastream[0]['@iot.id'])\n",
    "id_FOI = str(info_datastream[0]['_default_foi'])\n",
    "\n",
    "data_json =  { \"header\": \"False\", \"nan\": \"True\", \"columns\": { \"1\": { \"Datastream\":  str(info_datastream[0]['@iot.id']), \"FeaturesOfInterest\": str(info_datastream[0]['_default_foi']) } } }\n",
    "print(data_json)"
   ]
  },
  {
   "cell_type": "code",
   "execution_count": null,
   "id": "0ba2eb96",
   "metadata": {
    "metadata": {}
   },
   "outputs": [],
   "source": [
    "# Envoi du fichier de données\n",
    "response = sessionST.postCsvFile(path_data, data_json)\n",
    "if response.status_code == 201:\n",
    "    print(\"Post OK\", response.text)\n",
    "if response.status_code!= 201:\n",
    "    print(\"error: \", response.text)\n",
    "\n",
    "sessionST.log_out()"
   ]
  }
 ],
 "metadata": {
  "kernelspec": {
   "display_name": "base",
   "language": "python",
   "name": "python3"
  },
  "language_info": {
   "codemirror_mode": {
    "name": "ipython",
    "version": 3
   },
   "file_extension": ".py",
   "mimetype": "text/x-python",
   "name": "python",
   "nbconvert_exporter": "python",
   "pygments_lexer": "ipython3",
   "version": "3.11.9"
  }
 },
 "nbformat": 4,
 "nbformat_minor": 5
}
