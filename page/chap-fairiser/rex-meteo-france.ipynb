{
 "cells": [
  {
   "cell_type": "markdown",
   "metadata": {},
   "source": [
    "## REX Stations Météo France horaire\n",
    "### Qui parle ?\n",
    "Nelly Moulin, Maitre de Conférences en Physique de l'Environnement et climatologie et Tom Lorée, Doctorant en hydrologie urbaine, tous deux à l'institut Agro Rennes-Angers."
   ]
  },
  {
   "cell_type": "markdown",
   "metadata": {},
   "source": []
  },
  {
   "cell_type": "markdown",
   "metadata": {},
   "source": [
    "### Le besoin\n",
    "Accéder à des données météo horaire facilement. Voir où sont les stations, quelles sont les données disponibles et les télécharger"
   ]
  },
  {
   "cell_type": "markdown",
   "metadata": {},
   "source": [
    "### Données source\n",
    "#### Les stations sources\n",
    "Les informations sur les stations sont dans un fichier à part : [téléchargement](https://meteo.data.gouv.fr/datasets/656dab84db1bdf627a40eaae), mais le fichier est un 'Geojson' qui n'est pas dans le bon format et ne s'ouvre pas (problème déjà signalé à météo france...). Le fichier donne l'emplacement des stations actuellement active. Au final ce fichier est peu utile pour la suite.\n",
    "\n",
    "#### Les observations\n",
    "Les [observations horaires de météo france](https://meteo.data.gouv.fr/datasets/6569b4473bedf2e7abad3b72), sont des csv compressés par décade et département. \n",
    "Exemple de csv: \n",
    "| NUM_POSTE \t| NOM_USUEL      \t| AAAAMMJJHH \t| LAT   \t| LON       \t| RR1 \t| FF  \t| ALTI \t| T   \t|\n",
    "|-----------\t|----------------\t|------------\t|-------\t|-----------\t|-----\t|-----\t|------\t|-----\t|\n",
    "| 29075001  \t| BREST-GUIPAVAS \t| 1945010106 \t| 48.45 \t| -4.383333 \t|     \t| 0.1 \t| 94   \t| 1.2 \t|\n",
    "| 29075001  \t| BREST-GUIPAVAS \t| 1945010112 \t| 48.45 \t| -4.383333 \t|     \t| 0.0 \t| 94   \t| 5.6 \t|\n",
    "| 29075001  \t| BREST-GUIPAVAS \t| 1945010118 \t| 48.45 \t| -4.383333 \t|     \t| 0.0 \t| 94   \t| 2.5 \t|\n",
    "\n",
    "Les csv sont en long = chaque variable (futur datastream) en colonne. Les coordonnées géographiques sont présentent. Certaines stations ne possèdent pas tous les datastreams. Il faut télécharger toutes les stations par une boucle qui va télécharger toutes les décades (ou du webscrapping)."
   ]
  },
  {
   "cell_type": "code",
   "execution_count": null,
   "metadata": {},
   "outputs": [],
   "source": [
    "import requests\n",
    "\n",
    "def dl_station(start,fin):\n",
    "    base_url=f\"https://object.files.data.gouv.fr/meteofrance/data/synchro_ftp/BASE/HOR/H_29_{start}-{fin}.csv.gz\"\n",
    "    print(base_url)\n",
    "    try:\n",
    "        r=requests.get(base_url)\n",
    "        print(r.status_code)\n",
    "        if r.status_code==200:\n",
    "            open(f'/home/tloree/Documents/sofair/meteo_france_station/data/H_29_{start}-{fin}.csv.gz', 'wb').write(r.content)\n",
    "\n",
    "    except:\n",
    "        print('nein')\n",
    "\n",
    "\n",
    "start=1850\n",
    "fin=1859\n",
    "for i in range(0,round((2010-1850)/10)+1):\n",
    "    print(start,fin)\n",
    "    dl_station(start,fin)\n",
    "\n",
    "    start+=10\n",
    "    fin+=10"
   ]
  },
  {
   "cell_type": "markdown",
   "metadata": {},
   "source": [
    "### Création de l'instance\n",
    "Création via [sofair create-instance](https://geosas.fr/sofair-dev/create-instance)"
   ]
  },
  {
   "cell_type": "markdown",
   "metadata": {},
   "source": [
    "### Création de la config\n",
    "Sofair permet de créer des services Sensorthing complet à partir de ce type de csv, c'est la méthode 2 fichiers (pivot json). Cette méthode permet de transformer un csv qui possède toutes les informations nécessaire en service Sensorthing complet.\n",
    "Nelly va fournir les observed properties pour les variables dont elle a besoin. Le sensor sera générique.\n",
    "La création des observedProperties et sensors a été faite par le code si dessous, pour le moment ce n'est pas intégré à sofair."
   ]
  },
  {
   "cell_type": "markdown",
   "metadata": {},
   "source": [
    "#### Création Observed properties et Sensors"
   ]
  },
  {
   "cell_type": "code",
   "execution_count": null,
   "metadata": {},
   "outputs": [],
   "source": [
    "import requests\n",
    "import json\n",
    "\n",
    "url_service='https://frost.geosas.fr/station-horaire-meteo-france-test/v1.0/'\n",
    "\n",
    "sensors=[{'name':'Station météo',\n",
    " 'description':'Station météo France',\n",
    " 'encodingType':'text/html',\n",
    " 'metadata':'https://www.data.gouv.fr/fr/datasets/donnees-climatologiques-de-base-horaires/#/resources'}]\n",
    "\n",
    "\n",
    "objet='Sensors'\n",
    "for i in sensors:\n",
    "    json_data = json.dumps(i)\n",
    "    lien=f\"{url_service}{objet}\"\n",
    "    print(lien)\n",
    "    sensor_json=json.dumps(i)\n",
    "    r=requests.post(lien,data=sensor_json)\n",
    "    print(r.status_code)\n",
    "\n",
    "observerdProperties=[\n",
    "    {'name':'ff',\n",
    "'description':'Wind speed',\n",
    "'definition':'https://w3id.org/ozcar-theia/c_1913a530'},\n",
    "    {'name':'precip',\n",
    "'description':'Precipitation',\n",
    "'definition':'https://w3id.org/ozcar-theia/c_1913a530'},\n",
    "    {'name':'t',\n",
    "'description':'Temperature',\n",
    "'definition':'https://w3id.org/ozcar-theia/c_1913a530'}\n",
    "]\n",
    "\n",
    "objet='ObservedProperties'\n",
    "for i in observerdProperties:\n",
    "    json_data = json.dumps(i)\n",
    "    lien=f\"{url_service}{objet}\"\n",
    "    obsp_json=json.dumps(i)\n",
    "    r=requests.post(lien,data=obsp_json)\n",
    "    print(r.status_code)"
   ]
  },
  {
   "cell_type": "markdown",
   "metadata": {},
   "source": [
    "### Création things, locations, datastreams"
   ]
  },
  {
   "cell_type": "markdown",
   "metadata": {},
   "source": [
    "Création via [sofair configure-instance](https://geosas.fr/sofair-dev/configure-instance) à partir du json si dessous :"
   ]
  },
  {
   "cell_type": "code",
   "execution_count": null,
   "metadata": {},
   "outputs": [],
   "source": [
    "{\n",
    "    \"pivot\": {\n",
    "        \"things\": {\n",
    "            \"name\": \"NOM_USUEL\",\n",
    "            \"description\": \"NUM_POSTE\",\n",
    "            \"properties\": [\n",
    "                \"ALTI\"\n",
    "            ]\n",
    "        },\n",
    "        \"locations\": {\n",
    "            \"name\": \"NOM_USUEL\",\n",
    "            \"description\": \"NOM_USUEL\",\n",
    "            \"x\": \"LON\",\n",
    "            \"y\": \"LAT\"\n",
    "        },\n",
    "        \"datastreams\": [\n",
    "            {\n",
    "                \"name\": \"FF\",\n",
    "                \"description\": \"force du vent\",\n",
    "                \"sensor.id\": 1,\n",
    "                \"observedproperty.id\": 1,\n",
    "                \"unitOfMeasurement\": {\n",
    "                    \"name\": \"ff\",\n",
    "                    \"symbol\": \"m.s-1\",\n",
    "                    \"definition\": \"https://ucum.org/ucum#para-31\"\n",
    "                }\n",
    "            },\n",
    "            {\n",
    "                \"name\": \" T\",\n",
    "                \"description\": \"La temperature\",\n",
    "                \"sensor.id\": 1,\n",
    "                \"observedproperty.id\": 3,\n",
    "                \"unitOfMeasurement\": {\n",
    "                    \"name\": \"Celcius\",\n",
    "                    \"symbol\": \"°C\",\n",
    "                    \"definition\": \"https://meteofrance.github.io/meteonet/english/data/ground-observations/\"\n",
    "                }\n",
    "            },\n",
    "            {\n",
    "                \"name\": \"RR1\",\n",
    "                \"description\": \"Precipitation during the reporting period\",\n",
    "                \"sensor.id\": 1,\n",
    "                \"observedproperty.id\": 2,\n",
    "                \"unitOfMeasurement\": {\n",
    "                    \"name\": \"millimètre\",\n",
    "                    \"symbol\": \"mm\",\n",
    "                    \"definition\": \"https://meteofrance.github.io/meteonet/english/data/ground-observations/\"\n",
    "                }\n",
    "            }\n",
    "        ],\n",
    "        \"date\": {\n",
    "            \"name\": \"AAAAMMJJHH\",\n",
    "            \"format\": \"%Y%m%d%H\"\n",
    "        }\n",
    "    }\n",
    "}"
   ]
  },
  {
   "cell_type": "markdown",
   "metadata": {},
   "source": [
    "### Ajout des observations\n",
    "Ajout des données via [sofair upload-data](https://geosas.fr/sofair-dev/upload-data) à partir du json précédent et du csv des données météo précédement téléchargé. Il faut mettre le csv sur un cloud avec un accès direct poour que sofair le télécharge."
   ]
  },
  {
   "cell_type": "markdown",
   "metadata": {},
   "source": []
  },
  {
   "cell_type": "markdown",
   "metadata": {},
   "source": [
    "### Création du viewer\n",
    "[sofair create-viewer](https://geosas.fr/sofair-dev/create-viewer) : permet de créer un [viewer](https://geosas.fr/mviewer-test/?config=https://geosas.fr/apps/sofair/station-horaire-meteo-france-test.xml#) basé sur le mviewer\n"
   ]
  },
  {
   "cell_type": "markdown",
   "metadata": {},
   "source": [
    "### Première remarque sur le viewer en test :"
   ]
  },
  {
   "cell_type": "markdown",
   "metadata": {},
   "source": [
    "\n",
    "Salut, c'est juste un test sur le Finistère\n",
    "https://geosas.fr/mviewer-test/?config=https://geosas.fr/apps/sofair/station-horaire-meteo-france-test.xml\n",
    "(il y a beaucoup de station sans données pour certaine variable à cause du formalisme du csv de météo france)\n",
    "il n'y a que les 15000 premières données qui s'affichent mais la série est complete \n",
    "\n",
    "Ling — Aujourd’hui à 10:24\n",
    "trop bien comme interface! c'est synthétique et on voit tout de suite les infos essentielles!\n",
    "j'aurais une suggestion: mettre des carrés plutôt que des ronds pour la sélection des variables\n",
    "(en général, rond=1seul choix , carré=plusieurs choix possibles) \n",
    "\n",
    "Tom — Aujourd’hui à 10:26\n",
    "des carrés sur la carte ?\n",
    "\n",
    "Ling — Aujourd’hui à 10:26\n",
    "ah ok je vois...\n",
    "tu penses qu'en reformatant les données en nc ou un autre format plus compact avant pourrait faciliter l'accès?\n",
    "\n",
    "Ling — Aujourd’hui à 10:26\n",
    "Image\n",
    "c'est juste sur le choix d'affichage des variables ^^\n",
    "en tout cas c'est super!\n",
    "\n",
    "Tom — Aujourd’hui à 10:31\n",
    "Pour le téléchargement ça ne pose pas de problème, c'est juste que la visualisation dans un navigateur d'une grande série temporelle ça peut-être un peu poussif pourles données brutes. Mais il y a des méthodes pour contourner ce genre de problème mais ça prend du temps 😉\n",
    "Le sensorthing est en cours d'ajout sur Qgis également\n",
    "\n",
    "Ling — Aujourd’hui à 10:32\n",
    "et tu penses qu'en ajoutant une fenetre de temps visualisable limitée pourrait permettre d'accéder à une partie du csv à la fois?\n",
    "je pense au site hub'eau par exemple qui limite l'affichage des chroniques par séries de 5ans à peu près\n",
    "ou par nombre de lignes (en fonction de la résolution temporelle que tu choisis)\n",
    "\n",
    "Tom — Aujourd’hui à 10:42\n",
    "tout est possible 😉 c'est juste une question de choix\n",
    "\n",
    "Ling — Aujourd’hui à 10:43\n",
    "je pense que ça pourrait être intéressant de pouvoir choisir la résolution.\n",
    "tu ne vois pas les mêmes infos sur des données horaires, moyennes journalièere, décadaire, mensuelles etc\n",
    "\n",
    "Tom — Aujourd’hui à 10:46\n",
    "pour la résolution, la question que je me pose c'est de faire le calcul à la volée ou de les  stocker\n",
    "\n",
    "Ling — Aujourd’hui à 10:46\n",
    "si tu stockes, il faut penser à tous les cas possibles en amont ^^\n",
    "mmh et après, cela dépend de comment on définit la moyenne.\n",
    "par exemple: moyenne journalière à partir du 01/02/2020 à 9h --> moyenne pour la journée de minuit à minuit? ou moyenne pour l'intervalle de 24h entre 9h et 9h le jour suivant\n",
    "c'est encore plus vrai pour une moyenne de 10j \n",
    "à partir du jour X, tu ne peux pas te passer d'un calcul à la volée je pense\n",
    "par contre, peut être possible de stocker des moyennes journalières de minuit à minuit\n",
    "mensuelles du 1er au 30\n",
    "\n",
    "et les autres moyennes, à la volée ^^\n",
    "donc réponse habituelle des chercheurs: ça dépend 😝\n",
    "\n",
    "Tom — Aujourd’hui à 10:55\n",
    "😁\n",
    "Mais pour une interface de visualisation simple on peut choisir quelques exemples de visualisations avant de télécharger la chronique entière\n",
    "\n",
    "Ling — Aujourd’hui à 10:56\n",
    "oui, dans ce cas, on peut se contenter de moyennes pré-calculées\n",
    "\n",
    "Tom — Aujourd’hui à 10:57\n",
    "mais en choisissant des exemples pertinents pour chaque variables\n",
    "Ling — Aujourd’hui à 10:58\n",
    "des exemples?\n",
    "\n",
    "Tom — Aujourd’hui à 11:02\n",
    "je ne sais pas trop, par exemple la pluie ont prend la somme de la journée. \n",
    "Pour la température en lisant la documentations pour safran les flux de données température max, min et moyenne journalier ne sont pas aggrégés à la même heure (un peu comme l'exemple que tu m'as donné) \n",
    "\n",
    "Ling — Aujourd’hui à 11:04\n",
    "ah oui\n",
    "on peut sélectionner une série de variables dérivées pour chaque variable mesurée oui\n",
    "effectivement pour la T°, tu peux prendre min + heure du min (qui est une donnée importante en soit), pareil pour max, moyenne sur la journée et écart type\n",
    "après il faut voir ce qui est raisonnable en nombre de variables dérivées.\n",
    "\n",
    "par exemple pour T°, si on prend :\n",
    "moyT°+minT+maxT+std T à pas de temps journalier, mensuel, annuel: on est déjà à 4 X 3 = 12 variables dérivées juste pour la T° ^^\n",
    "\n",
    "Tom — Aujourd’hui à 11:13\n",
    "Oui mais en terme de ligne ce n'est pas beaucoup.\n",
    " Autre idée : on affiche la donnée brute avec une fenêtre temporelle  de quelques années, ensuite plusieurs choix : \n",
    "télécharger la série, \n",
    "visualiser la chronique entièrement,\n",
    "calcul + visualisation  de variables dérivées\n",
    "\n",
    "Ling — Aujourd’hui à 11:14\n",
    "oui bonne idée\n",
    "c'est plus modulable 🙂"
   ]
  },
  {
   "cell_type": "markdown",
   "metadata": {},
   "source": []
  }
 ],
 "metadata": {
  "language_info": {
   "name": "python"
  }
 },
 "nbformat": 4,
 "nbformat_minor": 2
}
